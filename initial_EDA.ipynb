{
 "cells": [
  {
   "cell_type": "code",
   "execution_count": 1,
   "id": "600ccbe8",
   "metadata": {},
   "outputs": [],
   "source": [
    "import numpy as np\n",
    "import pandas as pd\n",
    "import seaborn as sns\n",
    "import matplotlib.pyplot as plt"
   ]
  },
  {
   "cell_type": "code",
   "execution_count": 2,
   "id": "60425156",
   "metadata": {},
   "outputs": [
    {
     "data": {
      "text/plain": [
       "(363861, 6)"
      ]
     },
     "execution_count": 2,
     "metadata": {},
     "output_type": "execute_result"
    }
   ],
   "source": [
    "df = pd.read_csv(\"train.csv\")\n",
    "df.shape"
   ]
  },
  {
   "cell_type": "code",
   "execution_count": 3,
   "id": "5a3d86b9",
   "metadata": {},
   "outputs": [
    {
     "data": {
      "text/html": [
       "<div>\n",
       "<style scoped>\n",
       "    .dataframe tbody tr th:only-of-type {\n",
       "        vertical-align: middle;\n",
       "    }\n",
       "\n",
       "    .dataframe tbody tr th {\n",
       "        vertical-align: top;\n",
       "    }\n",
       "\n",
       "    .dataframe thead th {\n",
       "        text-align: right;\n",
       "    }\n",
       "</style>\n",
       "<table border=\"1\" class=\"dataframe\">\n",
       "  <thead>\n",
       "    <tr style=\"text-align: right;\">\n",
       "      <th></th>\n",
       "      <th>id</th>\n",
       "      <th>qid1</th>\n",
       "      <th>qid2</th>\n",
       "      <th>question1</th>\n",
       "      <th>question2</th>\n",
       "      <th>is_duplicate</th>\n",
       "    </tr>\n",
       "  </thead>\n",
       "  <tbody>\n",
       "    <tr>\n",
       "      <th>351294</th>\n",
       "      <td>351294</td>\n",
       "      <td>157458</td>\n",
       "      <td>480129</td>\n",
       "      <td>How can I boost my cell phone signal at home?</td>\n",
       "      <td>How can you boost your cell phone signal?</td>\n",
       "      <td>0</td>\n",
       "    </tr>\n",
       "    <tr>\n",
       "      <th>48594</th>\n",
       "      <td>48594</td>\n",
       "      <td>86614</td>\n",
       "      <td>86615</td>\n",
       "      <td>Music Theory: What is an octave?</td>\n",
       "      <td>How do I learn music theory for the violin?</td>\n",
       "      <td>0</td>\n",
       "    </tr>\n",
       "    <tr>\n",
       "      <th>128320</th>\n",
       "      <td>128320</td>\n",
       "      <td>206394</td>\n",
       "      <td>198268</td>\n",
       "      <td>Can you hide friends from you Facebook friend ...</td>\n",
       "      <td>How do you hide friends on Facebook?</td>\n",
       "      <td>1</td>\n",
       "    </tr>\n",
       "    <tr>\n",
       "      <th>53787</th>\n",
       "      <td>53787</td>\n",
       "      <td>95034</td>\n",
       "      <td>95035</td>\n",
       "      <td>What would be your ideal society?</td>\n",
       "      <td>What is an ideal society?</td>\n",
       "      <td>0</td>\n",
       "    </tr>\n",
       "    <tr>\n",
       "      <th>54106</th>\n",
       "      <td>54106</td>\n",
       "      <td>95555</td>\n",
       "      <td>95556</td>\n",
       "      <td>How do you send a text message from the US to ...</td>\n",
       "      <td>Is it legal to send a fake text message to sca...</td>\n",
       "      <td>0</td>\n",
       "    </tr>\n",
       "    <tr>\n",
       "      <th>108910</th>\n",
       "      <td>108910</td>\n",
       "      <td>178844</td>\n",
       "      <td>178845</td>\n",
       "      <td>Why air at 25℃ feels warmer than water at 25℃?</td>\n",
       "      <td>Why does water feel colder than air?</td>\n",
       "      <td>0</td>\n",
       "    </tr>\n",
       "    <tr>\n",
       "      <th>167440</th>\n",
       "      <td>167440</td>\n",
       "      <td>19892</td>\n",
       "      <td>43677</td>\n",
       "      <td>Why MS Dhoni leave captaincy of ODI &amp; T-20?</td>\n",
       "      <td>Why did Dhoni leave the captaincy?</td>\n",
       "      <td>1</td>\n",
       "    </tr>\n",
       "    <tr>\n",
       "      <th>188546</th>\n",
       "      <td>188546</td>\n",
       "      <td>287120</td>\n",
       "      <td>287121</td>\n",
       "      <td>It's the summer holidays and I am about to go ...</td>\n",
       "      <td>If a guy-friend starts to text a lot more and ...</td>\n",
       "      <td>0</td>\n",
       "    </tr>\n",
       "    <tr>\n",
       "      <th>245169</th>\n",
       "      <td>245169</td>\n",
       "      <td>357948</td>\n",
       "      <td>357949</td>\n",
       "      <td>How do I repair my relationship after I cheated?</td>\n",
       "      <td>How can you repair your relationship after you...</td>\n",
       "      <td>0</td>\n",
       "    </tr>\n",
       "    <tr>\n",
       "      <th>316575</th>\n",
       "      <td>316575</td>\n",
       "      <td>345795</td>\n",
       "      <td>441653</td>\n",
       "      <td>Was Mohammad and the Quran influenced by an he...</td>\n",
       "      <td>The Quran: Is there a version of the Qur'an's ...</td>\n",
       "      <td>0</td>\n",
       "    </tr>\n",
       "  </tbody>\n",
       "</table>\n",
       "</div>"
      ],
      "text/plain": [
       "            id    qid1    qid2  \\\n",
       "351294  351294  157458  480129   \n",
       "48594    48594   86614   86615   \n",
       "128320  128320  206394  198268   \n",
       "53787    53787   95034   95035   \n",
       "54106    54106   95555   95556   \n",
       "108910  108910  178844  178845   \n",
       "167440  167440   19892   43677   \n",
       "188546  188546  287120  287121   \n",
       "245169  245169  357948  357949   \n",
       "316575  316575  345795  441653   \n",
       "\n",
       "                                                question1  \\\n",
       "351294      How can I boost my cell phone signal at home?   \n",
       "48594                    Music Theory: What is an octave?   \n",
       "128320  Can you hide friends from you Facebook friend ...   \n",
       "53787                   What would be your ideal society?   \n",
       "54106   How do you send a text message from the US to ...   \n",
       "108910     Why air at 25℃ feels warmer than water at 25℃?   \n",
       "167440        Why MS Dhoni leave captaincy of ODI & T-20?   \n",
       "188546  It's the summer holidays and I am about to go ...   \n",
       "245169   How do I repair my relationship after I cheated?   \n",
       "316575  Was Mohammad and the Quran influenced by an he...   \n",
       "\n",
       "                                                question2  is_duplicate  \n",
       "351294          How can you boost your cell phone signal?             0  \n",
       "48594         How do I learn music theory for the violin?             0  \n",
       "128320               How do you hide friends on Facebook?             1  \n",
       "53787                           What is an ideal society?             0  \n",
       "54106   Is it legal to send a fake text message to sca...             0  \n",
       "108910               Why does water feel colder than air?             0  \n",
       "167440                 Why did Dhoni leave the captaincy?             1  \n",
       "188546  If a guy-friend starts to text a lot more and ...             0  \n",
       "245169  How can you repair your relationship after you...             0  \n",
       "316575  The Quran: Is there a version of the Qur'an's ...             0  "
      ]
     },
     "execution_count": 3,
     "metadata": {},
     "output_type": "execute_result"
    }
   ],
   "source": [
    "df.sample(10)"
   ]
  },
  {
   "cell_type": "code",
   "execution_count": 4,
   "id": "37b00141",
   "metadata": {},
   "outputs": [
    {
     "name": "stdout",
     "output_type": "stream",
     "text": [
      "<class 'pandas.core.frame.DataFrame'>\n",
      "RangeIndex: 363861 entries, 0 to 363860\n",
      "Data columns (total 6 columns):\n",
      " #   Column        Non-Null Count   Dtype \n",
      "---  ------        --------------   ----- \n",
      " 0   id            363861 non-null  int64 \n",
      " 1   qid1          363861 non-null  int64 \n",
      " 2   qid2          363861 non-null  int64 \n",
      " 3   question1     363860 non-null  object\n",
      " 4   question2     363859 non-null  object\n",
      " 5   is_duplicate  363861 non-null  int64 \n",
      "dtypes: int64(4), object(2)\n",
      "memory usage: 16.7+ MB\n"
     ]
    }
   ],
   "source": [
    "df.info()"
   ]
  },
  {
   "cell_type": "code",
   "execution_count": 5,
   "id": "c5b82789",
   "metadata": {},
   "outputs": [
    {
     "data": {
      "text/plain": [
       "id              0\n",
       "qid1            0\n",
       "qid2            0\n",
       "question1       1\n",
       "question2       2\n",
       "is_duplicate    0\n",
       "dtype: int64"
      ]
     },
     "execution_count": 5,
     "metadata": {},
     "output_type": "execute_result"
    }
   ],
   "source": [
    "# missing values\n",
    "df.isnull().sum()"
   ]
  },
  {
   "cell_type": "code",
   "execution_count": 6,
   "id": "e704abaf",
   "metadata": {},
   "outputs": [
    {
     "data": {
      "text/plain": [
       "np.int64(0)"
      ]
     },
     "execution_count": 6,
     "metadata": {},
     "output_type": "execute_result"
    }
   ],
   "source": [
    "# duplicate rows\n",
    "df.duplicated().sum()"
   ]
  },
  {
   "cell_type": "code",
   "execution_count": 17,
   "id": "3f9bd6af",
   "metadata": {},
   "outputs": [
    {
     "name": "stdout",
     "output_type": "stream",
     "text": [
      "0    255027\n",
      "1    149263\n",
      "Name: is_duplicate, dtype: int64\n",
      "0    63.080215\n",
      "1    36.919785\n",
      "Name: is_duplicate, dtype: float64\n"
     ]
    },
    {
     "data": {
      "text/plain": [
       "<AxesSubplot:>"
      ]
     },
     "execution_count": 17,
     "metadata": {},
     "output_type": "execute_result"
    },
    {
     "data": {
      "image/png": "[encoded data removed]",
      "text/plain": [
       "<Figure size 432x288 with 1 Axes>"
      ]
     },
     "metadata": {
      "needs_background": "light"
     },
     "output_type": "display_data"
    }
   ],
   "source": [
    "# Distribution of duplicate and non-duplicate questions\n",
    "\n",
    "print(df['is_duplicate'].value_counts())\n",
    "print((df['is_duplicate'].value_counts()/df['is_duplicate'].count())*100)\n",
    "df['is_duplicate'].value_counts().plot(kind='bar')"
   ]
  },
  {
   "cell_type": "code",
   "execution_count": 7,
   "id": "788d2d08",
   "metadata": {},
   "outputs": [
    {
     "name": "stdout",
     "output_type": "stream",
     "text": [
      "Number of unique questions 493889\n",
      "Number of questions getting repeated 98895\n"
     ]
    }
   ],
   "source": [
    "# Repeated questions\n",
    "\n",
    "qid = pd.Series(df['qid1'].tolist() + df['qid2'].tolist())\n",
    "print('Number of unique questions',np.unique(qid).shape[0])\n",
    "x = qid.value_counts()>1\n",
    "print('Number of questions getting repeated',x[x].shape[0])"
   ]
  },
  {
   "cell_type": "code",
   "execution_count": 8,
   "id": "2fa5bb83",
   "metadata": {},
   "outputs": [
    {
     "data": {
      "image/png": "[encoded data removed]",
      "text/plain": [
       "<Figure size 640x480 with 1 Axes>"
      ]
     },
     "metadata": {},
     "output_type": "display_data"
    }
   ],
   "source": [
    "# Repeated questions histogram\n",
    "\n",
    "plt.hist(qid.value_counts().values,bins=160)\n",
    "plt.yscale('log')\n",
    "plt.show()"
   ]
  },
  {
   "cell_type": "code",
   "execution_count": null,
   "id": "f9573e2f",
   "metadata": {},
   "outputs": [],
   "source": []
  }
 ],
 "metadata": {
  "kernelspec": {
   "display_name": "Python 3",
   "language": "python",
   "name": "python3"
  },
  "language_info": {
   "codemirror_mode": {
    "name": "ipython",
    "version": 3
   },
   "file_extension": ".py",
   "mimetype": "text/x-python",
   "name": "python",
   "nbconvert_exporter": "python",
   "pygments_lexer": "ipython3",
   "version": "3.12.4"
  }
 },
 "nbformat": 4,
 "nbformat_minor": 5
}
