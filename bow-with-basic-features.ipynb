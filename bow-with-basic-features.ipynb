{
 "cells": [
  {
   "cell_type": "code",
   "execution_count": 1,
   "id": "a9e3b5c6",
   "metadata": {},
   "outputs": [],
   "source": [
    "import numpy as np\n",
    "import pandas as pd\n",
    "import matplotlib.pyplot as plt\n",
    "import seaborn as sns\n",
    "\n",
    "import warnings\n",
    "warnings.filterwarnings('ignore')"
   ]
  },
  {
   "cell_type": "code",
   "execution_count": 2,
   "id": "2bf7a14b",
   "metadata": {},
   "outputs": [],
   "source": [
    "df = pd.read_csv('train.csv')"
   ]
  },
  {
   "cell_type": "code",
   "execution_count": 3,
   "id": "cc36984b",
   "metadata": {},
   "outputs": [
    {
     "data": {
      "text/plain": [
       "(363861, 6)"
      ]
     },
     "execution_count": 3,
     "metadata": {},
     "output_type": "execute_result"
    }
   ],
   "source": [
    "df.shape"
   ]
  },
  {
   "cell_type": "code",
   "execution_count": 4,
   "id": "fbbaf6ba",
   "metadata": {},
   "outputs": [
    {
     "data": {
      "text/html": [
       "<div>\n",
       "<style scoped>\n",
       "    .dataframe tbody tr th:only-of-type {\n",
       "        vertical-align: middle;\n",
       "    }\n",
       "\n",
       "    .dataframe tbody tr th {\n",
       "        vertical-align: top;\n",
       "    }\n",
       "\n",
       "    .dataframe thead th {\n",
       "        text-align: right;\n",
       "    }\n",
       "</style>\n",
       "<table border=\"1\" class=\"dataframe\">\n",
       "  <thead>\n",
       "    <tr style=\"text-align: right;\">\n",
       "      <th></th>\n",
       "      <th>id</th>\n",
       "      <th>qid1</th>\n",
       "      <th>qid2</th>\n",
       "      <th>question1</th>\n",
       "      <th>question2</th>\n",
       "      <th>is_duplicate</th>\n",
       "    </tr>\n",
       "  </thead>\n",
       "  <tbody>\n",
       "    <tr>\n",
       "      <th>0</th>\n",
       "      <td>0</td>\n",
       "      <td>1</td>\n",
       "      <td>2</td>\n",
       "      <td>What is the step by step guide to invest in sh...</td>\n",
       "      <td>What is the step by step guide to invest in sh...</td>\n",
       "      <td>0</td>\n",
       "    </tr>\n",
       "    <tr>\n",
       "      <th>1</th>\n",
       "      <td>1</td>\n",
       "      <td>3</td>\n",
       "      <td>4</td>\n",
       "      <td>What is the story of Kohinoor (Koh-i-Noor) Dia...</td>\n",
       "      <td>What would happen if the Indian government sto...</td>\n",
       "      <td>0</td>\n",
       "    </tr>\n",
       "    <tr>\n",
       "      <th>2</th>\n",
       "      <td>2</td>\n",
       "      <td>5</td>\n",
       "      <td>6</td>\n",
       "      <td>How can I increase the speed of my internet co...</td>\n",
       "      <td>How can Internet speed be increased by hacking...</td>\n",
       "      <td>0</td>\n",
       "    </tr>\n",
       "    <tr>\n",
       "      <th>3</th>\n",
       "      <td>3</td>\n",
       "      <td>7</td>\n",
       "      <td>8</td>\n",
       "      <td>Why am I mentally very lonely? How can I solve...</td>\n",
       "      <td>Find the remainder when [math]23^{24}[/math] i...</td>\n",
       "      <td>0</td>\n",
       "    </tr>\n",
       "    <tr>\n",
       "      <th>4</th>\n",
       "      <td>4</td>\n",
       "      <td>9</td>\n",
       "      <td>10</td>\n",
       "      <td>Which one dissolve in water quikly sugar, salt...</td>\n",
       "      <td>Which fish would survive in salt water?</td>\n",
       "      <td>0</td>\n",
       "    </tr>\n",
       "  </tbody>\n",
       "</table>\n",
       "</div>"
      ],
      "text/plain": [
       "   id  qid1  qid2                                          question1  \\\n",
       "0   0     1     2  What is the step by step guide to invest in sh...   \n",
       "1   1     3     4  What is the story of Kohinoor (Koh-i-Noor) Dia...   \n",
       "2   2     5     6  How can I increase the speed of my internet co...   \n",
       "3   3     7     8  Why am I mentally very lonely? How can I solve...   \n",
       "4   4     9    10  Which one dissolve in water quikly sugar, salt...   \n",
       "\n",
       "                                           question2  is_duplicate  \n",
       "0  What is the step by step guide to invest in sh...             0  \n",
       "1  What would happen if the Indian government sto...             0  \n",
       "2  How can Internet speed be increased by hacking...             0  \n",
       "3  Find the remainder when [math]23^{24}[/math] i...             0  \n",
       "4            Which fish would survive in salt water?             0  "
      ]
     },
     "execution_count": 4,
     "metadata": {},
     "output_type": "execute_result"
    }
   ],
   "source": [
    "df.head()"
   ]
  },
  {
   "cell_type": "code",
   "execution_count": 5,
   "id": "90634f4b",
   "metadata": {},
   "outputs": [],
   "source": [
    "new_df = df.sample(30000,random_state=2)"
   ]
  },
  {
   "cell_type": "code",
   "execution_count": 6,
   "id": "8d6a6a42",
   "metadata": {},
   "outputs": [
    {
     "data": {
      "text/plain": [
       "id              0\n",
       "qid1            0\n",
       "qid2            0\n",
       "question1       0\n",
       "question2       0\n",
       "is_duplicate    0\n",
       "dtype: int64"
      ]
     },
     "execution_count": 6,
     "metadata": {},
     "output_type": "execute_result"
    }
   ],
   "source": [
    "new_df.isnull().sum()"
   ]
  },
  {
   "cell_type": "code",
   "execution_count": 7,
   "id": "1d931f5b",
   "metadata": {},
   "outputs": [
    {
     "data": {
      "text/html": [
       "<div>\n",
       "<style scoped>\n",
       "    .dataframe tbody tr th:only-of-type {\n",
       "        vertical-align: middle;\n",
       "    }\n",
       "\n",
       "    .dataframe tbody tr th {\n",
       "        vertical-align: top;\n",
       "    }\n",
       "\n",
       "    .dataframe thead th {\n",
       "        text-align: right;\n",
       "    }\n",
       "</style>\n",
       "<table border=\"1\" class=\"dataframe\">\n",
       "  <thead>\n",
       "    <tr style=\"text-align: right;\">\n",
       "      <th></th>\n",
       "      <th>id</th>\n",
       "      <th>qid1</th>\n",
       "      <th>qid2</th>\n",
       "      <th>question1</th>\n",
       "      <th>question2</th>\n",
       "      <th>is_duplicate</th>\n",
       "    </tr>\n",
       "  </thead>\n",
       "  <tbody>\n",
       "    <tr>\n",
       "      <th>289024</th>\n",
       "      <td>289024</td>\n",
       "      <td>20941</td>\n",
       "      <td>8014</td>\n",
       "      <td>What should I do in order not to care about wh...</td>\n",
       "      <td>As an individual, do I really need to care wha...</td>\n",
       "      <td>1</td>\n",
       "    </tr>\n",
       "    <tr>\n",
       "      <th>3454</th>\n",
       "      <td>3454</td>\n",
       "      <td>6846</td>\n",
       "      <td>6847</td>\n",
       "      <td>Why AAP’s MLA Dinesh Mohaniya has been arrested?</td>\n",
       "      <td>What are your views on the latest sex scandal ...</td>\n",
       "      <td>0</td>\n",
       "    </tr>\n",
       "    <tr>\n",
       "      <th>92547</th>\n",
       "      <td>92547</td>\n",
       "      <td>154928</td>\n",
       "      <td>154929</td>\n",
       "      <td>Requisites to become first time app developer?</td>\n",
       "      <td>What Jobs are available on Cruise Ships for a ...</td>\n",
       "      <td>0</td>\n",
       "    </tr>\n",
       "    <tr>\n",
       "      <th>102544</th>\n",
       "      <td>102544</td>\n",
       "      <td>10473</td>\n",
       "      <td>2581</td>\n",
       "      <td>Is it possible to time travel to past?</td>\n",
       "      <td>Is time travel still theorized as being possible?</td>\n",
       "      <td>1</td>\n",
       "    </tr>\n",
       "    <tr>\n",
       "      <th>173136</th>\n",
       "      <td>173136</td>\n",
       "      <td>267166</td>\n",
       "      <td>267167</td>\n",
       "      <td>What preparation you should make before gettin...</td>\n",
       "      <td>How should you prepare your body before gettin...</td>\n",
       "      <td>1</td>\n",
       "    </tr>\n",
       "  </tbody>\n",
       "</table>\n",
       "</div>"
      ],
      "text/plain": [
       "            id    qid1    qid2  \\\n",
       "289024  289024   20941    8014   \n",
       "3454      3454    6846    6847   \n",
       "92547    92547  154928  154929   \n",
       "102544  102544   10473    2581   \n",
       "173136  173136  267166  267167   \n",
       "\n",
       "                                                question1  \\\n",
       "289024  What should I do in order not to care about wh...   \n",
       "3454     Why AAP’s MLA Dinesh Mohaniya has been arrested?   \n",
       "92547      Requisites to become first time app developer?   \n",
       "102544             Is it possible to time travel to past?   \n",
       "173136  What preparation you should make before gettin...   \n",
       "\n",
       "                                                question2  is_duplicate  \n",
       "289024  As an individual, do I really need to care wha...             1  \n",
       "3454    What are your views on the latest sex scandal ...             0  \n",
       "92547   What Jobs are available on Cruise Ships for a ...             0  \n",
       "102544  Is time travel still theorized as being possible?             1  \n",
       "173136  How should you prepare your body before gettin...             1  "
      ]
     },
     "execution_count": 7,
     "metadata": {},
     "output_type": "execute_result"
    }
   ],
   "source": [
    "new_df.head()"
   ]
  },
  {
   "cell_type": "code",
   "execution_count": 8,
   "id": "9c44581c",
   "metadata": {},
   "outputs": [
    {
     "data": {
      "text/plain": [
       "id              0\n",
       "qid1            0\n",
       "qid2            0\n",
       "question1       0\n",
       "question2       0\n",
       "is_duplicate    0\n",
       "dtype: int64"
      ]
     },
     "execution_count": 8,
     "metadata": {},
     "output_type": "execute_result"
    }
   ],
   "source": [
    "new_df.isnull().sum()"
   ]
  },
  {
   "cell_type": "code",
   "execution_count": 9,
   "id": "c4c27d8f",
   "metadata": {},
   "outputs": [
    {
     "data": {
      "text/plain": [
       "np.int64(0)"
      ]
     },
     "execution_count": 9,
     "metadata": {},
     "output_type": "execute_result"
    }
   ],
   "source": [
    "new_df.duplicated().sum()"
   ]
  },
  {
   "cell_type": "code",
   "execution_count": 10,
   "id": "b7863cea",
   "metadata": {},
   "outputs": [
    {
     "name": "stdout",
     "output_type": "stream",
     "text": [
      "is_duplicate\n",
      "0    18863\n",
      "1    11137\n",
      "Name: count, dtype: int64\n",
      "is_duplicate\n",
      "0    62.876667\n",
      "1    37.123333\n",
      "Name: count, dtype: float64\n"
     ]
    },
    {
     "data": {
      "text/plain": [
       "<Axes: xlabel='is_duplicate'>"
      ]
     },
     "execution_count": 10,
     "metadata": {},
     "output_type": "execute_result"
    },
    {
     "data": {
      "image/png": "[encoded data removed]",
      "text/plain": [
       "<Figure size 640x480 with 1 Axes>"
      ]
     },
     "metadata": {},
     "output_type": "display_data"
    }
   ],
   "source": [
    "# Distribution of duplicate and non-duplicate questions\n",
    "\n",
    "print(new_df['is_duplicate'].value_counts())\n",
    "print((new_df['is_duplicate'].value_counts()/new_df['is_duplicate'].count())*100)\n",
    "new_df['is_duplicate'].value_counts().plot(kind='bar')"
   ]
  },
  {
   "cell_type": "code",
   "execution_count": 12,
   "id": "691d9143",
   "metadata": {},
   "outputs": [
    {
     "name": "stdout",
     "output_type": "stream",
     "text": [
      "Number of unique questions 55498\n",
      "Number of questions getting repeated 3312\n"
     ]
    }
   ],
   "source": [
    "# Repeated questions\n",
    "\n",
    "qid = pd.Series(new_df['qid1'].tolist() + new_df['qid2'].tolist())\n",
    "print('Number of unique questions',np.unique(qid).shape[0])\n",
    "x = qid.value_counts()>1\n",
    "print('Number of questions getting repeated',x[x].shape[0])"
   ]
  },
  {
   "cell_type": "code",
   "execution_count": 13,
   "id": "e314640d",
   "metadata": {},
   "outputs": [
    {
     "data": {
      "image/png": "[encoded data removed]",
      "text/plain": [
       "<Figure size 640x480 with 1 Axes>"
      ]
     },
     "metadata": {},
     "output_type": "display_data"
    }
   ],
   "source": [
    "# Repeated questions histogram\n",
    "\n",
    "plt.hist(qid.value_counts().values,bins=160)\n",
    "plt.yscale('log')\n",
    "plt.show()"
   ]
  },
  {
   "cell_type": "code",
   "execution_count": 14,
   "id": "dc38a62b",
   "metadata": {},
   "outputs": [],
   "source": [
    "# Feature Engineering\n",
    "\n",
    "new_df['q1_len'] = new_df['question1'].str.len() \n",
    "new_df['q2_len'] = new_df['question2'].str.len()"
   ]
  },
  {
   "cell_type": "code",
   "execution_count": 15,
   "id": "bfb29dcd",
   "metadata": {},
   "outputs": [
    {
     "data": {
      "text/html": [
       "<div>\n",
       "<style scoped>\n",
       "    .dataframe tbody tr th:only-of-type {\n",
       "        vertical-align: middle;\n",
       "    }\n",
       "\n",
       "    .dataframe tbody tr th {\n",
       "        vertical-align: top;\n",
       "    }\n",
       "\n",
       "    .dataframe thead th {\n",
       "        text-align: right;\n",
       "    }\n",
       "</style>\n",
       "<table border=\"1\" class=\"dataframe\">\n",
       "  <thead>\n",
       "    <tr style=\"text-align: right;\">\n",
       "      <th></th>\n",
       "      <th>id</th>\n",
       "      <th>qid1</th>\n",
       "      <th>qid2</th>\n",
       "      <th>question1</th>\n",
       "      <th>question2</th>\n",
       "      <th>is_duplicate</th>\n",
       "      <th>q1_len</th>\n",
       "      <th>q2_len</th>\n",
       "    </tr>\n",
       "  </thead>\n",
       "  <tbody>\n",
       "    <tr>\n",
       "      <th>289024</th>\n",
       "      <td>289024</td>\n",
       "      <td>20941</td>\n",
       "      <td>8014</td>\n",
       "      <td>What should I do in order not to care about wh...</td>\n",
       "      <td>As an individual, do I really need to care wha...</td>\n",
       "      <td>1</td>\n",
       "      <td>68</td>\n",
       "      <td>70</td>\n",
       "    </tr>\n",
       "    <tr>\n",
       "      <th>3454</th>\n",
       "      <td>3454</td>\n",
       "      <td>6846</td>\n",
       "      <td>6847</td>\n",
       "      <td>Why AAP’s MLA Dinesh Mohaniya has been arrested?</td>\n",
       "      <td>What are your views on the latest sex scandal ...</td>\n",
       "      <td>0</td>\n",
       "      <td>48</td>\n",
       "      <td>71</td>\n",
       "    </tr>\n",
       "    <tr>\n",
       "      <th>92547</th>\n",
       "      <td>92547</td>\n",
       "      <td>154928</td>\n",
       "      <td>154929</td>\n",
       "      <td>Requisites to become first time app developer?</td>\n",
       "      <td>What Jobs are available on Cruise Ships for a ...</td>\n",
       "      <td>0</td>\n",
       "      <td>46</td>\n",
       "      <td>61</td>\n",
       "    </tr>\n",
       "    <tr>\n",
       "      <th>102544</th>\n",
       "      <td>102544</td>\n",
       "      <td>10473</td>\n",
       "      <td>2581</td>\n",
       "      <td>Is it possible to time travel to past?</td>\n",
       "      <td>Is time travel still theorized as being possible?</td>\n",
       "      <td>1</td>\n",
       "      <td>38</td>\n",
       "      <td>49</td>\n",
       "    </tr>\n",
       "    <tr>\n",
       "      <th>173136</th>\n",
       "      <td>173136</td>\n",
       "      <td>267166</td>\n",
       "      <td>267167</td>\n",
       "      <td>What preparation you should make before gettin...</td>\n",
       "      <td>How should you prepare your body before gettin...</td>\n",
       "      <td>1</td>\n",
       "      <td>57</td>\n",
       "      <td>57</td>\n",
       "    </tr>\n",
       "  </tbody>\n",
       "</table>\n",
       "</div>"
      ],
      "text/plain": [
       "            id    qid1    qid2  \\\n",
       "289024  289024   20941    8014   \n",
       "3454      3454    6846    6847   \n",
       "92547    92547  154928  154929   \n",
       "102544  102544   10473    2581   \n",
       "173136  173136  267166  267167   \n",
       "\n",
       "                                                question1  \\\n",
       "289024  What should I do in order not to care about wh...   \n",
       "3454     Why AAP’s MLA Dinesh Mohaniya has been arrested?   \n",
       "92547      Requisites to become first time app developer?   \n",
       "102544             Is it possible to time travel to past?   \n",
       "173136  What preparation you should make before gettin...   \n",
       "\n",
       "                                                question2  is_duplicate  \\\n",
       "289024  As an individual, do I really need to care wha...             1   \n",
       "3454    What are your views on the latest sex scandal ...             0   \n",
       "92547   What Jobs are available on Cruise Ships for a ...             0   \n",
       "102544  Is time travel still theorized as being possible?             1   \n",
       "173136  How should you prepare your body before gettin...             1   \n",
       "\n",
       "        q1_len  q2_len  \n",
       "289024      68      70  \n",
       "3454        48      71  \n",
       "92547       46      61  \n",
       "102544      38      49  \n",
       "173136      57      57  "
      ]
     },
     "execution_count": 15,
     "metadata": {},
     "output_type": "execute_result"
    }
   ],
   "source": [
    "new_df.head()"
   ]
  },
  {
   "cell_type": "code",
   "execution_count": 16,
   "id": "df3727a6",
   "metadata": {},
   "outputs": [
    {
     "data": {
      "text/html": [
       "<div>\n",
       "<style scoped>\n",
       "    .dataframe tbody tr th:only-of-type {\n",
       "        vertical-align: middle;\n",
       "    }\n",
       "\n",
       "    .dataframe tbody tr th {\n",
       "        vertical-align: top;\n",
       "    }\n",
       "\n",
       "    .dataframe thead th {\n",
       "        text-align: right;\n",
       "    }\n",
       "</style>\n",
       "<table border=\"1\" class=\"dataframe\">\n",
       "  <thead>\n",
       "    <tr style=\"text-align: right;\">\n",
       "      <th></th>\n",
       "      <th>id</th>\n",
       "      <th>qid1</th>\n",
       "      <th>qid2</th>\n",
       "      <th>question1</th>\n",
       "      <th>question2</th>\n",
       "      <th>is_duplicate</th>\n",
       "      <th>q1_len</th>\n",
       "      <th>q2_len</th>\n",
       "      <th>q1_num_words</th>\n",
       "      <th>q2_num_words</th>\n",
       "    </tr>\n",
       "  </thead>\n",
       "  <tbody>\n",
       "    <tr>\n",
       "      <th>289024</th>\n",
       "      <td>289024</td>\n",
       "      <td>20941</td>\n",
       "      <td>8014</td>\n",
       "      <td>What should I do in order not to care about wh...</td>\n",
       "      <td>As an individual, do I really need to care wha...</td>\n",
       "      <td>1</td>\n",
       "      <td>68</td>\n",
       "      <td>70</td>\n",
       "      <td>15</td>\n",
       "      <td>14</td>\n",
       "    </tr>\n",
       "    <tr>\n",
       "      <th>3454</th>\n",
       "      <td>3454</td>\n",
       "      <td>6846</td>\n",
       "      <td>6847</td>\n",
       "      <td>Why AAP’s MLA Dinesh Mohaniya has been arrested?</td>\n",
       "      <td>What are your views on the latest sex scandal ...</td>\n",
       "      <td>0</td>\n",
       "      <td>48</td>\n",
       "      <td>71</td>\n",
       "      <td>8</td>\n",
       "      <td>14</td>\n",
       "    </tr>\n",
       "    <tr>\n",
       "      <th>92547</th>\n",
       "      <td>92547</td>\n",
       "      <td>154928</td>\n",
       "      <td>154929</td>\n",
       "      <td>Requisites to become first time app developer?</td>\n",
       "      <td>What Jobs are available on Cruise Ships for a ...</td>\n",
       "      <td>0</td>\n",
       "      <td>46</td>\n",
       "      <td>61</td>\n",
       "      <td>7</td>\n",
       "      <td>11</td>\n",
       "    </tr>\n",
       "    <tr>\n",
       "      <th>102544</th>\n",
       "      <td>102544</td>\n",
       "      <td>10473</td>\n",
       "      <td>2581</td>\n",
       "      <td>Is it possible to time travel to past?</td>\n",
       "      <td>Is time travel still theorized as being possible?</td>\n",
       "      <td>1</td>\n",
       "      <td>38</td>\n",
       "      <td>49</td>\n",
       "      <td>8</td>\n",
       "      <td>8</td>\n",
       "    </tr>\n",
       "    <tr>\n",
       "      <th>173136</th>\n",
       "      <td>173136</td>\n",
       "      <td>267166</td>\n",
       "      <td>267167</td>\n",
       "      <td>What preparation you should make before gettin...</td>\n",
       "      <td>How should you prepare your body before gettin...</td>\n",
       "      <td>1</td>\n",
       "      <td>57</td>\n",
       "      <td>57</td>\n",
       "      <td>8</td>\n",
       "      <td>9</td>\n",
       "    </tr>\n",
       "  </tbody>\n",
       "</table>\n",
       "</div>"
      ],
      "text/plain": [
       "            id    qid1    qid2  \\\n",
       "289024  289024   20941    8014   \n",
       "3454      3454    6846    6847   \n",
       "92547    92547  154928  154929   \n",
       "102544  102544   10473    2581   \n",
       "173136  173136  267166  267167   \n",
       "\n",
       "                                                question1  \\\n",
       "289024  What should I do in order not to care about wh...   \n",
       "3454     Why AAP’s MLA Dinesh Mohaniya has been arrested?   \n",
       "92547      Requisites to become first time app developer?   \n",
       "102544             Is it possible to time travel to past?   \n",
       "173136  What preparation you should make before gettin...   \n",
       "\n",
       "                                                question2  is_duplicate  \\\n",
       "289024  As an individual, do I really need to care wha...             1   \n",
       "3454    What are your views on the latest sex scandal ...             0   \n",
       "92547   What Jobs are available on Cruise Ships for a ...             0   \n",
       "102544  Is time travel still theorized as being possible?             1   \n",
       "173136  How should you prepare your body before gettin...             1   \n",
       "\n",
       "        q1_len  q2_len  q1_num_words  q2_num_words  \n",
       "289024      68      70            15            14  \n",
       "3454        48      71             8            14  \n",
       "92547       46      61             7            11  \n",
       "102544      38      49             8             8  \n",
       "173136      57      57             8             9  "
      ]
     },
     "execution_count": 16,
     "metadata": {},
     "output_type": "execute_result"
    }
   ],
   "source": [
    "new_df['q1_num_words'] = new_df['question1'].apply(lambda row: len(row.split(\" \")))\n",
    "new_df['q2_num_words'] = new_df['question2'].apply(lambda row: len(row.split(\" \")))\n",
    "new_df.head()"
   ]
  },
  {
   "cell_type": "code",
   "execution_count": 17,
   "id": "193c460f",
   "metadata": {},
   "outputs": [],
   "source": [
    "def common_words(row):\n",
    "    w1 = set(map(lambda word: word.lower().strip(), row['question1'].split(\" \")))\n",
    "    w2 = set(map(lambda word: word.lower().strip(), row['question2'].split(\" \")))    \n",
    "    return len(w1 & w2)"
   ]
  },
  {
   "cell_type": "code",
   "execution_count": 18,
   "id": "47ea1118",
   "metadata": {},
   "outputs": [
    {
     "data": {
      "text/html": [
       "<div>\n",
       "<style scoped>\n",
       "    .dataframe tbody tr th:only-of-type {\n",
       "        vertical-align: middle;\n",
       "    }\n",
       "\n",
       "    .dataframe tbody tr th {\n",
       "        vertical-align: top;\n",
       "    }\n",
       "\n",
       "    .dataframe thead th {\n",
       "        text-align: right;\n",
       "    }\n",
       "</style>\n",
       "<table border=\"1\" class=\"dataframe\">\n",
       "  <thead>\n",
       "    <tr style=\"text-align: right;\">\n",
       "      <th></th>\n",
       "      <th>id</th>\n",
       "      <th>qid1</th>\n",
       "      <th>qid2</th>\n",
       "      <th>question1</th>\n",
       "      <th>question2</th>\n",
       "      <th>is_duplicate</th>\n",
       "      <th>q1_len</th>\n",
       "      <th>q2_len</th>\n",
       "      <th>q1_num_words</th>\n",
       "      <th>q2_num_words</th>\n",
       "      <th>word_common</th>\n",
       "    </tr>\n",
       "  </thead>\n",
       "  <tbody>\n",
       "    <tr>\n",
       "      <th>289024</th>\n",
       "      <td>289024</td>\n",
       "      <td>20941</td>\n",
       "      <td>8014</td>\n",
       "      <td>What should I do in order not to care about wh...</td>\n",
       "      <td>As an individual, do I really need to care wha...</td>\n",
       "      <td>1</td>\n",
       "      <td>68</td>\n",
       "      <td>70</td>\n",
       "      <td>15</td>\n",
       "      <td>14</td>\n",
       "      <td>9</td>\n",
       "    </tr>\n",
       "    <tr>\n",
       "      <th>3454</th>\n",
       "      <td>3454</td>\n",
       "      <td>6846</td>\n",
       "      <td>6847</td>\n",
       "      <td>Why AAP’s MLA Dinesh Mohaniya has been arrested?</td>\n",
       "      <td>What are your views on the latest sex scandal ...</td>\n",
       "      <td>0</td>\n",
       "      <td>48</td>\n",
       "      <td>71</td>\n",
       "      <td>8</td>\n",
       "      <td>14</td>\n",
       "      <td>1</td>\n",
       "    </tr>\n",
       "    <tr>\n",
       "      <th>92547</th>\n",
       "      <td>92547</td>\n",
       "      <td>154928</td>\n",
       "      <td>154929</td>\n",
       "      <td>Requisites to become first time app developer?</td>\n",
       "      <td>What Jobs are available on Cruise Ships for a ...</td>\n",
       "      <td>0</td>\n",
       "      <td>46</td>\n",
       "      <td>61</td>\n",
       "      <td>7</td>\n",
       "      <td>11</td>\n",
       "      <td>0</td>\n",
       "    </tr>\n",
       "    <tr>\n",
       "      <th>102544</th>\n",
       "      <td>102544</td>\n",
       "      <td>10473</td>\n",
       "      <td>2581</td>\n",
       "      <td>Is it possible to time travel to past?</td>\n",
       "      <td>Is time travel still theorized as being possible?</td>\n",
       "      <td>1</td>\n",
       "      <td>38</td>\n",
       "      <td>49</td>\n",
       "      <td>8</td>\n",
       "      <td>8</td>\n",
       "      <td>3</td>\n",
       "    </tr>\n",
       "    <tr>\n",
       "      <th>173136</th>\n",
       "      <td>173136</td>\n",
       "      <td>267166</td>\n",
       "      <td>267167</td>\n",
       "      <td>What preparation you should make before gettin...</td>\n",
       "      <td>How should you prepare your body before gettin...</td>\n",
       "      <td>1</td>\n",
       "      <td>57</td>\n",
       "      <td>57</td>\n",
       "      <td>8</td>\n",
       "      <td>9</td>\n",
       "      <td>5</td>\n",
       "    </tr>\n",
       "  </tbody>\n",
       "</table>\n",
       "</div>"
      ],
      "text/plain": [
       "            id    qid1    qid2  \\\n",
       "289024  289024   20941    8014   \n",
       "3454      3454    6846    6847   \n",
       "92547    92547  154928  154929   \n",
       "102544  102544   10473    2581   \n",
       "173136  173136  267166  267167   \n",
       "\n",
       "                                                question1  \\\n",
       "289024  What should I do in order not to care about wh...   \n",
       "3454     Why AAP’s MLA Dinesh Mohaniya has been arrested?   \n",
       "92547      Requisites to become first time app developer?   \n",
       "102544             Is it possible to time travel to past?   \n",
       "173136  What preparation you should make before gettin...   \n",
       "\n",
       "                                                question2  is_duplicate  \\\n",
       "289024  As an individual, do I really need to care wha...             1   \n",
       "3454    What are your views on the latest sex scandal ...             0   \n",
       "92547   What Jobs are available on Cruise Ships for a ...             0   \n",
       "102544  Is time travel still theorized as being possible?             1   \n",
       "173136  How should you prepare your body before gettin...             1   \n",
       "\n",
       "        q1_len  q2_len  q1_num_words  q2_num_words  word_common  \n",
       "289024      68      70            15            14            9  \n",
       "3454        48      71             8            14            1  \n",
       "92547       46      61             7            11            0  \n",
       "102544      38      49             8             8            3  \n",
       "173136      57      57             8             9            5  "
      ]
     },
     "execution_count": 18,
     "metadata": {},
     "output_type": "execute_result"
    }
   ],
   "source": [
    "new_df['word_common'] = new_df.apply(common_words, axis=1)\n",
    "new_df.head()"
   ]
  },
  {
   "cell_type": "code",
   "execution_count": 19,
   "id": "87729813",
   "metadata": {},
   "outputs": [],
   "source": [
    "def total_words(row):\n",
    "    w1 = set(map(lambda word: word.lower().strip(), row['question1'].split(\" \")))\n",
    "    w2 = set(map(lambda word: word.lower().strip(), row['question2'].split(\" \")))    \n",
    "    return (len(w1) + len(w2))"
   ]
  },
  {
   "cell_type": "code",
   "execution_count": 21,
   "id": "0f04346e",
   "metadata": {},
   "outputs": [
    {
     "data": {
      "text/html": [
       "<div>\n",
       "<style scoped>\n",
       "    .dataframe tbody tr th:only-of-type {\n",
       "        vertical-align: middle;\n",
       "    }\n",
       "\n",
       "    .dataframe tbody tr th {\n",
       "        vertical-align: top;\n",
       "    }\n",
       "\n",
       "    .dataframe thead th {\n",
       "        text-align: right;\n",
       "    }\n",
       "</style>\n",
       "<table border=\"1\" class=\"dataframe\">\n",
       "  <thead>\n",
       "    <tr style=\"text-align: right;\">\n",
       "      <th></th>\n",
       "      <th>id</th>\n",
       "      <th>qid1</th>\n",
       "      <th>qid2</th>\n",
       "      <th>question1</th>\n",
       "      <th>question2</th>\n",
       "      <th>is_duplicate</th>\n",
       "      <th>q1_len</th>\n",
       "      <th>q2_len</th>\n",
       "      <th>q1_num_words</th>\n",
       "      <th>q2_num_words</th>\n",
       "      <th>word_common</th>\n",
       "      <th>word_total</th>\n",
       "    </tr>\n",
       "  </thead>\n",
       "  <tbody>\n",
       "    <tr>\n",
       "      <th>289024</th>\n",
       "      <td>289024</td>\n",
       "      <td>20941</td>\n",
       "      <td>8014</td>\n",
       "      <td>What should I do in order not to care about wh...</td>\n",
       "      <td>As an individual, do I really need to care wha...</td>\n",
       "      <td>1</td>\n",
       "      <td>68</td>\n",
       "      <td>70</td>\n",
       "      <td>15</td>\n",
       "      <td>14</td>\n",
       "      <td>9</td>\n",
       "      <td>28</td>\n",
       "    </tr>\n",
       "    <tr>\n",
       "      <th>3454</th>\n",
       "      <td>3454</td>\n",
       "      <td>6846</td>\n",
       "      <td>6847</td>\n",
       "      <td>Why AAP’s MLA Dinesh Mohaniya has been arrested?</td>\n",
       "      <td>What are your views on the latest sex scandal ...</td>\n",
       "      <td>0</td>\n",
       "      <td>48</td>\n",
       "      <td>71</td>\n",
       "      <td>8</td>\n",
       "      <td>14</td>\n",
       "      <td>1</td>\n",
       "      <td>22</td>\n",
       "    </tr>\n",
       "    <tr>\n",
       "      <th>92547</th>\n",
       "      <td>92547</td>\n",
       "      <td>154928</td>\n",
       "      <td>154929</td>\n",
       "      <td>Requisites to become first time app developer?</td>\n",
       "      <td>What Jobs are available on Cruise Ships for a ...</td>\n",
       "      <td>0</td>\n",
       "      <td>46</td>\n",
       "      <td>61</td>\n",
       "      <td>7</td>\n",
       "      <td>11</td>\n",
       "      <td>0</td>\n",
       "      <td>18</td>\n",
       "    </tr>\n",
       "    <tr>\n",
       "      <th>102544</th>\n",
       "      <td>102544</td>\n",
       "      <td>10473</td>\n",
       "      <td>2581</td>\n",
       "      <td>Is it possible to time travel to past?</td>\n",
       "      <td>Is time travel still theorized as being possible?</td>\n",
       "      <td>1</td>\n",
       "      <td>38</td>\n",
       "      <td>49</td>\n",
       "      <td>8</td>\n",
       "      <td>8</td>\n",
       "      <td>3</td>\n",
       "      <td>15</td>\n",
       "    </tr>\n",
       "    <tr>\n",
       "      <th>173136</th>\n",
       "      <td>173136</td>\n",
       "      <td>267166</td>\n",
       "      <td>267167</td>\n",
       "      <td>What preparation you should make before gettin...</td>\n",
       "      <td>How should you prepare your body before gettin...</td>\n",
       "      <td>1</td>\n",
       "      <td>57</td>\n",
       "      <td>57</td>\n",
       "      <td>8</td>\n",
       "      <td>9</td>\n",
       "      <td>5</td>\n",
       "      <td>17</td>\n",
       "    </tr>\n",
       "  </tbody>\n",
       "</table>\n",
       "</div>"
      ],
      "text/plain": [
       "            id    qid1    qid2  \\\n",
       "289024  289024   20941    8014   \n",
       "3454      3454    6846    6847   \n",
       "92547    92547  154928  154929   \n",
       "102544  102544   10473    2581   \n",
       "173136  173136  267166  267167   \n",
       "\n",
       "                                                question1  \\\n",
       "289024  What should I do in order not to care about wh...   \n",
       "3454     Why AAP’s MLA Dinesh Mohaniya has been arrested?   \n",
       "92547      Requisites to become first time app developer?   \n",
       "102544             Is it possible to time travel to past?   \n",
       "173136  What preparation you should make before gettin...   \n",
       "\n",
       "                                                question2  is_duplicate  \\\n",
       "289024  As an individual, do I really need to care wha...             1   \n",
       "3454    What are your views on the latest sex scandal ...             0   \n",
       "92547   What Jobs are available on Cruise Ships for a ...             0   \n",
       "102544  Is time travel still theorized as being possible?             1   \n",
       "173136  How should you prepare your body before gettin...             1   \n",
       "\n",
       "        q1_len  q2_len  q1_num_words  q2_num_words  word_common  word_total  \n",
       "289024      68      70            15            14            9          28  \n",
       "3454        48      71             8            14            1          22  \n",
       "92547       46      61             7            11            0          18  \n",
       "102544      38      49             8             8            3          15  \n",
       "173136      57      57             8             9            5          17  "
      ]
     },
     "execution_count": 21,
     "metadata": {},
     "output_type": "execute_result"
    }
   ],
   "source": [
    "new_df['word_total'] = new_df.apply(total_words, axis=1)\n",
    "new_df.head()"
   ]
  },
  {
   "cell_type": "code",
   "execution_count": 22,
   "id": "677c7db3",
   "metadata": {},
   "outputs": [
    {
     "data": {
      "text/html": [
       "<div>\n",
       "<style scoped>\n",
       "    .dataframe tbody tr th:only-of-type {\n",
       "        vertical-align: middle;\n",
       "    }\n",
       "\n",
       "    .dataframe tbody tr th {\n",
       "        vertical-align: top;\n",
       "    }\n",
       "\n",
       "    .dataframe thead th {\n",
       "        text-align: right;\n",
       "    }\n",
       "</style>\n",
       "<table border=\"1\" class=\"dataframe\">\n",
       "  <thead>\n",
       "    <tr style=\"text-align: right;\">\n",
       "      <th></th>\n",
       "      <th>id</th>\n",
       "      <th>qid1</th>\n",
       "      <th>qid2</th>\n",
       "      <th>question1</th>\n",
       "      <th>question2</th>\n",
       "      <th>is_duplicate</th>\n",
       "      <th>q1_len</th>\n",
       "      <th>q2_len</th>\n",
       "      <th>q1_num_words</th>\n",
       "      <th>q2_num_words</th>\n",
       "      <th>word_common</th>\n",
       "      <th>word_total</th>\n",
       "      <th>word_share</th>\n",
       "    </tr>\n",
       "  </thead>\n",
       "  <tbody>\n",
       "    <tr>\n",
       "      <th>289024</th>\n",
       "      <td>289024</td>\n",
       "      <td>20941</td>\n",
       "      <td>8014</td>\n",
       "      <td>What should I do in order not to care about wh...</td>\n",
       "      <td>As an individual, do I really need to care wha...</td>\n",
       "      <td>1</td>\n",
       "      <td>68</td>\n",
       "      <td>70</td>\n",
       "      <td>15</td>\n",
       "      <td>14</td>\n",
       "      <td>9</td>\n",
       "      <td>28</td>\n",
       "      <td>0.32</td>\n",
       "    </tr>\n",
       "    <tr>\n",
       "      <th>3454</th>\n",
       "      <td>3454</td>\n",
       "      <td>6846</td>\n",
       "      <td>6847</td>\n",
       "      <td>Why AAP’s MLA Dinesh Mohaniya has been arrested?</td>\n",
       "      <td>What are your views on the latest sex scandal ...</td>\n",
       "      <td>0</td>\n",
       "      <td>48</td>\n",
       "      <td>71</td>\n",
       "      <td>8</td>\n",
       "      <td>14</td>\n",
       "      <td>1</td>\n",
       "      <td>22</td>\n",
       "      <td>0.05</td>\n",
       "    </tr>\n",
       "    <tr>\n",
       "      <th>92547</th>\n",
       "      <td>92547</td>\n",
       "      <td>154928</td>\n",
       "      <td>154929</td>\n",
       "      <td>Requisites to become first time app developer?</td>\n",
       "      <td>What Jobs are available on Cruise Ships for a ...</td>\n",
       "      <td>0</td>\n",
       "      <td>46</td>\n",
       "      <td>61</td>\n",
       "      <td>7</td>\n",
       "      <td>11</td>\n",
       "      <td>0</td>\n",
       "      <td>18</td>\n",
       "      <td>0.00</td>\n",
       "    </tr>\n",
       "    <tr>\n",
       "      <th>102544</th>\n",
       "      <td>102544</td>\n",
       "      <td>10473</td>\n",
       "      <td>2581</td>\n",
       "      <td>Is it possible to time travel to past?</td>\n",
       "      <td>Is time travel still theorized as being possible?</td>\n",
       "      <td>1</td>\n",
       "      <td>38</td>\n",
       "      <td>49</td>\n",
       "      <td>8</td>\n",
       "      <td>8</td>\n",
       "      <td>3</td>\n",
       "      <td>15</td>\n",
       "      <td>0.20</td>\n",
       "    </tr>\n",
       "    <tr>\n",
       "      <th>173136</th>\n",
       "      <td>173136</td>\n",
       "      <td>267166</td>\n",
       "      <td>267167</td>\n",
       "      <td>What preparation you should make before gettin...</td>\n",
       "      <td>How should you prepare your body before gettin...</td>\n",
       "      <td>1</td>\n",
       "      <td>57</td>\n",
       "      <td>57</td>\n",
       "      <td>8</td>\n",
       "      <td>9</td>\n",
       "      <td>5</td>\n",
       "      <td>17</td>\n",
       "      <td>0.29</td>\n",
       "    </tr>\n",
       "  </tbody>\n",
       "</table>\n",
       "</div>"
      ],
      "text/plain": [
       "            id    qid1    qid2  \\\n",
       "289024  289024   20941    8014   \n",
       "3454      3454    6846    6847   \n",
       "92547    92547  154928  154929   \n",
       "102544  102544   10473    2581   \n",
       "173136  173136  267166  267167   \n",
       "\n",
       "                                                question1  \\\n",
       "289024  What should I do in order not to care about wh...   \n",
       "3454     Why AAP’s MLA Dinesh Mohaniya has been arrested?   \n",
       "92547      Requisites to become first time app developer?   \n",
       "102544             Is it possible to time travel to past?   \n",
       "173136  What preparation you should make before gettin...   \n",
       "\n",
       "                                                question2  is_duplicate  \\\n",
       "289024  As an individual, do I really need to care wha...             1   \n",
       "3454    What are your views on the latest sex scandal ...             0   \n",
       "92547   What Jobs are available on Cruise Ships for a ...             0   \n",
       "102544  Is time travel still theorized as being possible?             1   \n",
       "173136  How should you prepare your body before gettin...             1   \n",
       "\n",
       "        q1_len  q2_len  q1_num_words  q2_num_words  word_common  word_total  \\\n",
       "289024      68      70            15            14            9          28   \n",
       "3454        48      71             8            14            1          22   \n",
       "92547       46      61             7            11            0          18   \n",
       "102544      38      49             8             8            3          15   \n",
       "173136      57      57             8             9            5          17   \n",
       "\n",
       "        word_share  \n",
       "289024        0.32  \n",
       "3454          0.05  \n",
       "92547         0.00  \n",
       "102544        0.20  \n",
       "173136        0.29  "
      ]
     },
     "execution_count": 22,
     "metadata": {},
     "output_type": "execute_result"
    }
   ],
   "source": [
    "new_df['word_share'] = round(new_df['word_common']/new_df['word_total'],2)\n",
    "new_df.head()"
   ]
  },
  {
   "cell_type": "code",
   "execution_count": 23,
   "id": "5aa336c7",
   "metadata": {},
   "outputs": [
    {
     "name": "stdout",
     "output_type": "stream",
     "text": [
      "minimum characters 2\n",
      "maximum characters 305\n",
      "average num of characters 59\n"
     ]
    },
    {
     "data": {
      "image/png": "[encoded data removed]",
      "text/plain": [
       "<Figure size 500x500 with 1 Axes>"
      ]
     },
     "metadata": {},
     "output_type": "display_data"
    }
   ],
   "source": [
    "# Analysis of features\n",
    "sns.displot(new_df['q1_len'])\n",
    "print('minimum characters',new_df['q1_len'].min())\n",
    "print('maximum characters',new_df['q1_len'].max())\n",
    "print('average num of characters',int(new_df['q1_len'].mean()))"
   ]
  },
  {
   "cell_type": "code",
   "execution_count": 24,
   "id": "40bbfcc2",
   "metadata": {},
   "outputs": [
    {
     "name": "stdout",
     "output_type": "stream",
     "text": [
      "minimum characters 8\n",
      "maximum characters 1151\n",
      "average num of characters 60\n"
     ]
    },
    {
     "data": {
      "image/png": "[encoded data removed]",
      "text/plain": [
       "<Figure size 500x500 with 1 Axes>"
      ]
     },
     "metadata": {},
     "output_type": "display_data"
    }
   ],
   "source": [
    "sns.displot(new_df['q2_len'])\n",
    "print('minimum characters',new_df['q2_len'].min())\n",
    "print('maximum characters',new_df['q2_len'].max())\n",
    "print('average num of characters',int(new_df['q2_len'].mean()))"
   ]
  },
  {
   "cell_type": "code",
   "execution_count": 25,
   "id": "e3eb90a4",
   "metadata": {},
   "outputs": [
    {
     "name": "stdout",
     "output_type": "stream",
     "text": [
      "minimum words 1\n",
      "maximum words 59\n",
      "average num of words 10\n"
     ]
    },
    {
     "data": {
      "image/png": "[encoded data removed]",
      "text/plain": [
       "<Figure size 500x500 with 1 Axes>"
      ]
     },
     "metadata": {},
     "output_type": "display_data"
    }
   ],
   "source": [
    "sns.displot(new_df['q1_num_words'])\n",
    "print('minimum words',new_df['q1_num_words'].min())\n",
    "print('maximum words',new_df['q1_num_words'].max())\n",
    "print('average num of words',int(new_df['q1_num_words'].mean()))"
   ]
  },
  {
   "cell_type": "code",
   "execution_count": 26,
   "id": "ca7b45ec",
   "metadata": {},
   "outputs": [
    {
     "name": "stdout",
     "output_type": "stream",
     "text": [
      "minimum words 1\n",
      "maximum words 237\n",
      "average num of words 11\n"
     ]
    },
    {
     "data": {
      "image/png": "[encoded data removed]",
      "text/plain": [
       "<Figure size 500x500 with 1 Axes>"
      ]
     },
     "metadata": {},
     "output_type": "display_data"
    }
   ],
   "source": [
    "sns.displot(new_df['q2_num_words'])\n",
    "print('minimum words',new_df['q2_num_words'].min())\n",
    "print('maximum words',new_df['q2_num_words'].max())\n",
    "print('average num of words',int(new_df['q2_num_words'].mean()))"
   ]
  },
  {
   "cell_type": "code",
   "execution_count": 27,
   "id": "01f7afe3",
   "metadata": {},
   "outputs": [
    {
     "data": {
      "image/png": "[encoded data removed]",
      "text/plain": [
       "<Figure size 640x480 with 1 Axes>"
      ]
     },
     "metadata": {},
     "output_type": "display_data"
    }
   ],
   "source": [
    "# common words\n",
    "sns.distplot(new_df[new_df['is_duplicate'] == 0]['word_common'],label='non duplicate')\n",
    "sns.distplot(new_df[new_df['is_duplicate'] == 1]['word_common'],label='duplicate')\n",
    "plt.legend()\n",
    "plt.show()"
   ]
  },
  {
   "cell_type": "code",
   "execution_count": 28,
   "id": "85be5cf5",
   "metadata": {},
   "outputs": [
    {
     "data": {
      "image/png": "[encoded data removed]",
      "text/plain": [
       "<Figure size 640x480 with 1 Axes>"
      ]
     },
     "metadata": {},
     "output_type": "display_data"
    }
   ],
   "source": [
    "# total words\n",
    "sns.distplot(new_df[new_df['is_duplicate'] == 0]['word_total'],label='non duplicate')\n",
    "sns.distplot(new_df[new_df['is_duplicate'] == 1]['word_total'],label='duplicate')\n",
    "plt.legend()\n",
    "plt.show()"
   ]
  },
  {
   "cell_type": "code",
   "execution_count": 29,
   "id": "94d5e0ea",
   "metadata": {},
   "outputs": [
    {
     "data": {
      "image/png": "[encoded data removed]",
      "text/plain": [
       "<Figure size 640x480 with 1 Axes>"
      ]
     },
     "metadata": {},
     "output_type": "display_data"
    }
   ],
   "source": [
    "# word share\n",
    "sns.distplot(new_df[new_df['is_duplicate'] == 0]['word_share'],label='non duplicate')\n",
    "sns.distplot(new_df[new_df['is_duplicate'] == 1]['word_share'],label='duplicate')\n",
    "plt.legend()\n",
    "plt.show()"
   ]
  },
  {
   "cell_type": "code",
   "execution_count": 30,
   "id": "e7690b8c",
   "metadata": {},
   "outputs": [
    {
     "data": {
      "text/html": [
       "<div>\n",
       "<style scoped>\n",
       "    .dataframe tbody tr th:only-of-type {\n",
       "        vertical-align: middle;\n",
       "    }\n",
       "\n",
       "    .dataframe tbody tr th {\n",
       "        vertical-align: top;\n",
       "    }\n",
       "\n",
       "    .dataframe thead th {\n",
       "        text-align: right;\n",
       "    }\n",
       "</style>\n",
       "<table border=\"1\" class=\"dataframe\">\n",
       "  <thead>\n",
       "    <tr style=\"text-align: right;\">\n",
       "      <th></th>\n",
       "      <th>question1</th>\n",
       "      <th>question2</th>\n",
       "    </tr>\n",
       "  </thead>\n",
       "  <tbody>\n",
       "    <tr>\n",
       "      <th>289024</th>\n",
       "      <td>What should I do in order not to care about wh...</td>\n",
       "      <td>As an individual, do I really need to care wha...</td>\n",
       "    </tr>\n",
       "    <tr>\n",
       "      <th>3454</th>\n",
       "      <td>Why AAP’s MLA Dinesh Mohaniya has been arrested?</td>\n",
       "      <td>What are your views on the latest sex scandal ...</td>\n",
       "    </tr>\n",
       "    <tr>\n",
       "      <th>92547</th>\n",
       "      <td>Requisites to become first time app developer?</td>\n",
       "      <td>What Jobs are available on Cruise Ships for a ...</td>\n",
       "    </tr>\n",
       "    <tr>\n",
       "      <th>102544</th>\n",
       "      <td>Is it possible to time travel to past?</td>\n",
       "      <td>Is time travel still theorized as being possible?</td>\n",
       "    </tr>\n",
       "    <tr>\n",
       "      <th>173136</th>\n",
       "      <td>What preparation you should make before gettin...</td>\n",
       "      <td>How should you prepare your body before gettin...</td>\n",
       "    </tr>\n",
       "  </tbody>\n",
       "</table>\n",
       "</div>"
      ],
      "text/plain": [
       "                                                question1  \\\n",
       "289024  What should I do in order not to care about wh...   \n",
       "3454     Why AAP’s MLA Dinesh Mohaniya has been arrested?   \n",
       "92547      Requisites to become first time app developer?   \n",
       "102544             Is it possible to time travel to past?   \n",
       "173136  What preparation you should make before gettin...   \n",
       "\n",
       "                                                question2  \n",
       "289024  As an individual, do I really need to care wha...  \n",
       "3454    What are your views on the latest sex scandal ...  \n",
       "92547   What Jobs are available on Cruise Ships for a ...  \n",
       "102544  Is time travel still theorized as being possible?  \n",
       "173136  How should you prepare your body before gettin...  "
      ]
     },
     "execution_count": 30,
     "metadata": {},
     "output_type": "execute_result"
    }
   ],
   "source": [
    "ques_df = new_df[['question1','question2']]\n",
    "ques_df.head()"
   ]
  },
  {
   "cell_type": "code",
   "execution_count": 31,
   "id": "b9ae4a4c",
   "metadata": {},
   "outputs": [
    {
     "name": "stdout",
     "output_type": "stream",
     "text": [
      "(30000, 8)\n"
     ]
    },
    {
     "data": {
      "text/html": [
       "<div>\n",
       "<style scoped>\n",
       "    .dataframe tbody tr th:only-of-type {\n",
       "        vertical-align: middle;\n",
       "    }\n",
       "\n",
       "    .dataframe tbody tr th {\n",
       "        vertical-align: top;\n",
       "    }\n",
       "\n",
       "    .dataframe thead th {\n",
       "        text-align: right;\n",
       "    }\n",
       "</style>\n",
       "<table border=\"1\" class=\"dataframe\">\n",
       "  <thead>\n",
       "    <tr style=\"text-align: right;\">\n",
       "      <th></th>\n",
       "      <th>is_duplicate</th>\n",
       "      <th>q1_len</th>\n",
       "      <th>q2_len</th>\n",
       "      <th>q1_num_words</th>\n",
       "      <th>q2_num_words</th>\n",
       "      <th>word_common</th>\n",
       "      <th>word_total</th>\n",
       "      <th>word_share</th>\n",
       "    </tr>\n",
       "  </thead>\n",
       "  <tbody>\n",
       "    <tr>\n",
       "      <th>289024</th>\n",
       "      <td>1</td>\n",
       "      <td>68</td>\n",
       "      <td>70</td>\n",
       "      <td>15</td>\n",
       "      <td>14</td>\n",
       "      <td>9</td>\n",
       "      <td>28</td>\n",
       "      <td>0.32</td>\n",
       "    </tr>\n",
       "    <tr>\n",
       "      <th>3454</th>\n",
       "      <td>0</td>\n",
       "      <td>48</td>\n",
       "      <td>71</td>\n",
       "      <td>8</td>\n",
       "      <td>14</td>\n",
       "      <td>1</td>\n",
       "      <td>22</td>\n",
       "      <td>0.05</td>\n",
       "    </tr>\n",
       "    <tr>\n",
       "      <th>92547</th>\n",
       "      <td>0</td>\n",
       "      <td>46</td>\n",
       "      <td>61</td>\n",
       "      <td>7</td>\n",
       "      <td>11</td>\n",
       "      <td>0</td>\n",
       "      <td>18</td>\n",
       "      <td>0.00</td>\n",
       "    </tr>\n",
       "    <tr>\n",
       "      <th>102544</th>\n",
       "      <td>1</td>\n",
       "      <td>38</td>\n",
       "      <td>49</td>\n",
       "      <td>8</td>\n",
       "      <td>8</td>\n",
       "      <td>3</td>\n",
       "      <td>15</td>\n",
       "      <td>0.20</td>\n",
       "    </tr>\n",
       "    <tr>\n",
       "      <th>173136</th>\n",
       "      <td>1</td>\n",
       "      <td>57</td>\n",
       "      <td>57</td>\n",
       "      <td>8</td>\n",
       "      <td>9</td>\n",
       "      <td>5</td>\n",
       "      <td>17</td>\n",
       "      <td>0.29</td>\n",
       "    </tr>\n",
       "  </tbody>\n",
       "</table>\n",
       "</div>"
      ],
      "text/plain": [
       "        is_duplicate  q1_len  q2_len  q1_num_words  q2_num_words  word_common  \\\n",
       "289024             1      68      70            15            14            9   \n",
       "3454               0      48      71             8            14            1   \n",
       "92547              0      46      61             7            11            0   \n",
       "102544             1      38      49             8             8            3   \n",
       "173136             1      57      57             8             9            5   \n",
       "\n",
       "        word_total  word_share  \n",
       "289024          28        0.32  \n",
       "3454            22        0.05  \n",
       "92547           18        0.00  \n",
       "102544          15        0.20  \n",
       "173136          17        0.29  "
      ]
     },
     "execution_count": 31,
     "metadata": {},
     "output_type": "execute_result"
    }
   ],
   "source": [
    "final_df = new_df.drop(columns=['id','qid1','qid2','question1','question2'])\n",
    "print(final_df.shape)\n",
    "final_df.head()"
   ]
  },
  {
   "cell_type": "code",
   "execution_count": 32,
   "id": "e6338858",
   "metadata": {},
   "outputs": [],
   "source": [
    "from sklearn.feature_extraction.text import CountVectorizer\n",
    "# merge texts\n",
    "questions = list(ques_df['question1']) + list(ques_df['question2'])\n",
    "\n",
    "cv = CountVectorizer(max_features=3000)\n",
    "q1_arr, q2_arr = np.vsplit(cv.fit_transform(questions).toarray(),2)"
   ]
  },
  {
   "cell_type": "code",
   "execution_count": 33,
   "id": "c7be6cec",
   "metadata": {},
   "outputs": [
    {
     "data": {
      "text/plain": [
       "(30000, 6000)"
      ]
     },
     "execution_count": 33,
     "metadata": {},
     "output_type": "execute_result"
    }
   ],
   "source": [
    "temp_df1 = pd.DataFrame(q1_arr, index= ques_df.index)\n",
    "temp_df2 = pd.DataFrame(q2_arr, index= ques_df.index)\n",
    "temp_df = pd.concat([temp_df1, temp_df2], axis=1)\n",
    "temp_df.shape"
   ]
  },
  {
   "cell_type": "code",
   "execution_count": 34,
   "id": "4b39acb7",
   "metadata": {},
   "outputs": [
    {
     "name": "stdout",
     "output_type": "stream",
     "text": [
      "(30000, 6008)\n"
     ]
    },
    {
     "data": {
      "text/html": [
       "<div>\n",
       "<style scoped>\n",
       "    .dataframe tbody tr th:only-of-type {\n",
       "        vertical-align: middle;\n",
       "    }\n",
       "\n",
       "    .dataframe tbody tr th {\n",
       "        vertical-align: top;\n",
       "    }\n",
       "\n",
       "    .dataframe thead th {\n",
       "        text-align: right;\n",
       "    }\n",
       "</style>\n",
       "<table border=\"1\" class=\"dataframe\">\n",
       "  <thead>\n",
       "    <tr style=\"text-align: right;\">\n",
       "      <th></th>\n",
       "      <th>is_duplicate</th>\n",
       "      <th>q1_len</th>\n",
       "      <th>q2_len</th>\n",
       "      <th>q1_num_words</th>\n",
       "      <th>q2_num_words</th>\n",
       "      <th>word_common</th>\n",
       "      <th>word_total</th>\n",
       "      <th>word_share</th>\n",
       "      <th>0</th>\n",
       "      <th>1</th>\n",
       "      <th>...</th>\n",
       "      <th>2990</th>\n",
       "      <th>2991</th>\n",
       "      <th>2992</th>\n",
       "      <th>2993</th>\n",
       "      <th>2994</th>\n",
       "      <th>2995</th>\n",
       "      <th>2996</th>\n",
       "      <th>2997</th>\n",
       "      <th>2998</th>\n",
       "      <th>2999</th>\n",
       "    </tr>\n",
       "  </thead>\n",
       "  <tbody>\n",
       "    <tr>\n",
       "      <th>289024</th>\n",
       "      <td>1</td>\n",
       "      <td>68</td>\n",
       "      <td>70</td>\n",
       "      <td>15</td>\n",
       "      <td>14</td>\n",
       "      <td>9</td>\n",
       "      <td>28</td>\n",
       "      <td>0.32</td>\n",
       "      <td>0</td>\n",
       "      <td>0</td>\n",
       "      <td>...</td>\n",
       "      <td>0</td>\n",
       "      <td>0</td>\n",
       "      <td>0</td>\n",
       "      <td>0</td>\n",
       "      <td>0</td>\n",
       "      <td>0</td>\n",
       "      <td>0</td>\n",
       "      <td>0</td>\n",
       "      <td>0</td>\n",
       "      <td>0</td>\n",
       "    </tr>\n",
       "    <tr>\n",
       "      <th>3454</th>\n",
       "      <td>0</td>\n",
       "      <td>48</td>\n",
       "      <td>71</td>\n",
       "      <td>8</td>\n",
       "      <td>14</td>\n",
       "      <td>1</td>\n",
       "      <td>22</td>\n",
       "      <td>0.05</td>\n",
       "      <td>0</td>\n",
       "      <td>0</td>\n",
       "      <td>...</td>\n",
       "      <td>0</td>\n",
       "      <td>0</td>\n",
       "      <td>0</td>\n",
       "      <td>0</td>\n",
       "      <td>0</td>\n",
       "      <td>1</td>\n",
       "      <td>0</td>\n",
       "      <td>0</td>\n",
       "      <td>0</td>\n",
       "      <td>0</td>\n",
       "    </tr>\n",
       "    <tr>\n",
       "      <th>92547</th>\n",
       "      <td>0</td>\n",
       "      <td>46</td>\n",
       "      <td>61</td>\n",
       "      <td>7</td>\n",
       "      <td>11</td>\n",
       "      <td>0</td>\n",
       "      <td>18</td>\n",
       "      <td>0.00</td>\n",
       "      <td>0</td>\n",
       "      <td>0</td>\n",
       "      <td>...</td>\n",
       "      <td>0</td>\n",
       "      <td>0</td>\n",
       "      <td>0</td>\n",
       "      <td>0</td>\n",
       "      <td>0</td>\n",
       "      <td>0</td>\n",
       "      <td>0</td>\n",
       "      <td>0</td>\n",
       "      <td>0</td>\n",
       "      <td>0</td>\n",
       "    </tr>\n",
       "    <tr>\n",
       "      <th>102544</th>\n",
       "      <td>1</td>\n",
       "      <td>38</td>\n",
       "      <td>49</td>\n",
       "      <td>8</td>\n",
       "      <td>8</td>\n",
       "      <td>3</td>\n",
       "      <td>15</td>\n",
       "      <td>0.20</td>\n",
       "      <td>0</td>\n",
       "      <td>0</td>\n",
       "      <td>...</td>\n",
       "      <td>0</td>\n",
       "      <td>0</td>\n",
       "      <td>0</td>\n",
       "      <td>0</td>\n",
       "      <td>0</td>\n",
       "      <td>0</td>\n",
       "      <td>0</td>\n",
       "      <td>0</td>\n",
       "      <td>0</td>\n",
       "      <td>0</td>\n",
       "    </tr>\n",
       "    <tr>\n",
       "      <th>173136</th>\n",
       "      <td>1</td>\n",
       "      <td>57</td>\n",
       "      <td>57</td>\n",
       "      <td>8</td>\n",
       "      <td>9</td>\n",
       "      <td>5</td>\n",
       "      <td>17</td>\n",
       "      <td>0.29</td>\n",
       "      <td>0</td>\n",
       "      <td>0</td>\n",
       "      <td>...</td>\n",
       "      <td>0</td>\n",
       "      <td>0</td>\n",
       "      <td>1</td>\n",
       "      <td>0</td>\n",
       "      <td>0</td>\n",
       "      <td>1</td>\n",
       "      <td>0</td>\n",
       "      <td>0</td>\n",
       "      <td>0</td>\n",
       "      <td>0</td>\n",
       "    </tr>\n",
       "  </tbody>\n",
       "</table>\n",
       "<p>5 rows × 6008 columns</p>\n",
       "</div>"
      ],
      "text/plain": [
       "        is_duplicate  q1_len  q2_len  q1_num_words  q2_num_words  word_common  \\\n",
       "289024             1      68      70            15            14            9   \n",
       "3454               0      48      71             8            14            1   \n",
       "92547              0      46      61             7            11            0   \n",
       "102544             1      38      49             8             8            3   \n",
       "173136             1      57      57             8             9            5   \n",
       "\n",
       "        word_total  word_share  0  1  ...  2990  2991  2992  2993  2994  2995  \\\n",
       "289024          28        0.32  0  0  ...     0     0     0     0     0     0   \n",
       "3454            22        0.05  0  0  ...     0     0     0     0     0     1   \n",
       "92547           18        0.00  0  0  ...     0     0     0     0     0     0   \n",
       "102544          15        0.20  0  0  ...     0     0     0     0     0     0   \n",
       "173136          17        0.29  0  0  ...     0     0     1     0     0     1   \n",
       "\n",
       "        2996  2997  2998  2999  \n",
       "289024     0     0     0     0  \n",
       "3454       0     0     0     0  \n",
       "92547      0     0     0     0  \n",
       "102544     0     0     0     0  \n",
       "173136     0     0     0     0  \n",
       "\n",
       "[5 rows x 6008 columns]"
      ]
     },
     "execution_count": 34,
     "metadata": {},
     "output_type": "execute_result"
    }
   ],
   "source": [
    "final_df = pd.concat([final_df, temp_df], axis=1)\n",
    "print(final_df.shape)\n",
    "final_df.head()"
   ]
  },
  {
   "cell_type": "code",
   "execution_count": 35,
   "id": "0b8e20f5",
   "metadata": {},
   "outputs": [],
   "source": [
    "from sklearn.model_selection import train_test_split\n",
    "X_train,X_test,y_train,y_test = train_test_split(final_df.iloc[:,1:].values,final_df.iloc[:,0].values,test_size=0.2,random_state=1)"
   ]
  },
  {
   "cell_type": "code",
   "execution_count": 36,
   "id": "36545ab1",
   "metadata": {},
   "outputs": [
    {
     "data": {
      "text/plain": [
       "0.7701666666666667"
      ]
     },
     "execution_count": 36,
     "metadata": {},
     "output_type": "execute_result"
    }
   ],
   "source": [
    "from sklearn.ensemble import RandomForestClassifier\n",
    "from sklearn.metrics import accuracy_score\n",
    "rf = RandomForestClassifier()\n",
    "rf.fit(X_train,y_train)\n",
    "y_pred = rf.predict(X_test)\n",
    "accuracy_score(y_test,y_pred)"
   ]
  },
  {
   "cell_type": "code",
   "execution_count": 37,
   "id": "16b13c21",
   "metadata": {},
   "outputs": [
    {
     "data": {
      "text/plain": [
       "0.763"
      ]
     },
     "execution_count": 37,
     "metadata": {},
     "output_type": "execute_result"
    }
   ],
   "source": [
    "from xgboost import XGBClassifier\n",
    "xgb = XGBClassifier()\n",
    "xgb.fit(X_train,y_train)\n",
    "y_pred = xgb.predict(X_test)\n",
    "accuracy_score(y_test,y_pred)"
   ]
  },
  {
   "cell_type": "markdown",
   "id": "e12207d2",
   "metadata": {},
   "source": [
    "## Advanced Features\n",
    "\n",
    "### 1. Token Features\n",
    "- **cwc_min**: This is the ratio of the number of common words to the length of the smaller question\n",
    "- **cwc_max**: This is the ratio of the number of common words to the length of the larger question\n",
    "- **csc_min**: This is the ratio of the number of common stop words to the smaller stop word count among the two questions\n",
    "- **csc_max**: This is the ratio of the number of common stop words to the larger stop word count among the two questions\n",
    "- **ctc_min**: This is the ratio of the number of common tokens to the smaller token count among the two questions\n",
    "- **ctc_max**: This is the ratio of the number of common tokens to the larger token count among the two questions\n",
    "- **last_word_eq**: 1 if the last word in the two questions is same, 0 otherwise\n",
    "- **first_word_eq**: 1 if the first word in the two questions is same, 0 otherwise\n",
    "\n",
    "### 2. Length Based Features\n",
    "- **mean_len**: Mean of the length of the two questions (number of words)\n",
    "- **abs_len_diff**: Absolute difference between the length of the two questions (number of words)\n",
    "- **longest_substr_ratio**: Ratio of the length of the longest substring among the two questions to the length of the smaller question\n",
    "\n",
    "### 3. Fuzzy Features\n",
    "- **fuzz_ratio**: fuzz_ratio score from fuzzywuzzy\n",
    "- **fuzz_partial_ratio**: fuzz_partial_ratio from fuzzywuzzy\n",
    "- **token_sort_ratio**: token_sort_ratio from fuzzywuzzy\n",
    "- **token_set_ratio**: token_set_ratio from fuzzywuzzy"
   ]
  },
  {
   "cell_type": "code",
   "execution_count": null,
   "id": "ef503a8d",
   "metadata": {},
   "outputs": [],
   "source": []
  },
  {
   "cell_type": "code",
   "execution_count": null,
   "id": "d0d9ff8a",
   "metadata": {},
   "outputs": [],
   "source": []
  },
  {
   "cell_type": "code",
   "execution_count": null,
   "id": "6b878af5",
   "metadata": {},
   "outputs": [],
   "source": []
  }
 ],
 "metadata": {
  "kernelspec": {
   "display_name": "Python 3",
   "language": "python",
   "name": "python3"
  },
  "language_info": {
   "codemirror_mode": {
    "name": "ipython",
    "version": 3
   },
   "file_extension": ".py",
   "mimetype": "text/x-python",
   "name": "python",
   "nbconvert_exporter": "python",
   "pygments_lexer": "ipython3",
   "version": "3.12.4"
  }
 },
 "nbformat": 4,
 "nbformat_minor": 5
}
